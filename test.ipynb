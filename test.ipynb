{
 "cells": [
  {
   "cell_type": "code",
   "execution_count": 78,
   "source": [
    "from core.load_database import loadDatabase\r\n",
    "from core.bom import Bom\r\n",
    "from core.article import Article\r\n",
    "import pandas as pd\r\n",
    "from core.settings import CASE_TYPES\r\n",
    "print(CASE_TYPES)"
   ],
   "outputs": [
    {
     "output_type": "stream",
     "name": "stdout",
     "text": [
      "['1', '2', '3', '1-p6', '2-p6', '3-p6', '1-p12', '1-p24']\n"
     ]
    }
   ],
   "metadata": {}
  },
  {
   "cell_type": "code",
   "execution_count": 79,
   "source": [
    "APPLOG = []"
   ],
   "outputs": [],
   "metadata": {}
  },
  {
   "cell_type": "code",
   "execution_count": 80,
   "source": [
    "db, a_db = loadDatabase(None)"
   ],
   "outputs": [
    {
     "output_type": "stream",
     "name": "stdout",
     "text": [
      ">>  Looking up for required data...\n",
      ">>  Re-creating database... be patient, it will take a while.\n",
      ">>  \"data/Bom Hierarchy final.xlsx\" successfully loaded.\n",
      ">>  \"data/materials.csv\" successfully loaded.\n",
      ">>  Creating new database..\n",
      ">>  A new database successfully created and loaded.\n",
      ">>  Looking up for Articles rate file...\n",
      ">>  \"data/articles.csv\" successfully loaded.\n"
     ]
    }
   ],
   "metadata": {}
  },
  {
   "cell_type": "code",
   "execution_count": null,
   "source": [
    "def create_article_list(db):\r\n",
    "    df = db[db['father'].str.startswith(\"2-FB-\")][['father', 'fathername']].copy()\r\n",
    "    df['art'] = df.father.str.split(\"-\").str[2:4].str.join(\"-\") + \"-\" + df.father.str.split(\"-\").str[4:].str[0].str[0]\r\n",
    "    df['case'] = df.father.str.split(\"-\").str[4:].str.join(\"-\").str[1:]\r\n",
    "    df.sort_values(\"case\", inplace=True)\r\n",
    "    df.drop_duplicates(subset=['art'], ignore_index=True, inplace=True)\r\n",
    "    df.to_csv(\"data/artList.csv\", index=False)"
   ],
   "outputs": [],
   "metadata": {}
  },
  {
   "cell_type": "code",
   "execution_count": 92,
   "source": [
    "df = db[db['father'].str.startswith(\"2-FB-\")][['father', 'fathername']].copy()\r\n"
   ],
   "outputs": [],
   "metadata": {}
  },
  {
   "cell_type": "code",
   "execution_count": 85,
   "source": [
    "df['art'] = df.father.str.split(\"-\").str[2:4].str.join(\"-\") +\"-\"+ df.father.str.split(\"-\").str[4:].str[0].str[0]"
   ],
   "outputs": [],
   "metadata": {}
  },
  {
   "cell_type": "code",
   "execution_count": 86,
   "source": [
    "df['case'] = df.father.str.split(\"-\").str[4:].str.join(\"-\").str[1:]"
   ],
   "outputs": [],
   "metadata": {}
  },
  {
   "cell_type": "code",
   "execution_count": 87,
   "source": [
    "df.sort_values(\"case\", inplace=True)"
   ],
   "outputs": [],
   "metadata": {}
  },
  {
   "cell_type": "code",
   "execution_count": 88,
   "source": [
    "df.drop_duplicates(subset=['art'], ignore_index=True, inplace=True)"
   ],
   "outputs": [],
   "metadata": {}
  },
  {
   "cell_type": "code",
   "execution_count": 91,
   "source": [
    "print(df[['father', 'fathername', 'art']])"
   ],
   "outputs": [
    {
     "output_type": "stream",
     "name": "stdout",
     "text": [
      "                father                                         fathername  \\\n",
      "0     2-FB-0101Z-RD-L1              Footwear-Skalino-0101Z-Red-Ladies-5X9   \n",
      "1     2-FB-3779Z-TR-G1   Footwear-Pride-3779Z-Tan Brown-Gents-6X10-Export   \n",
      "2    2-FB-D4303Z-NB-G1  Footwear-DEBONGO-D4303Z-Navy Blue-Gents-6X10-E...   \n",
      "3     2-FB-D4304-BL-G1             Footwear-Debongo-D4304-Blue-Gents-6X10   \n",
      "4    2-FB-D4303Z-MX-G1  Footwear-DEBONGO-D4303Z-Multicolour-Gents-6X10...   \n",
      "..                 ...                                                ...   \n",
      "813  2-FB-L2058-TA-GA7                Footwear-Smartak-L2058-Tan-Gents-07   \n",
      "814  2-FB-L2078-TA-GA7                Footwear-Smartak-L2078-Tan-Gents-07   \n",
      "815  2-FB-L2078-NY-GA7               Footwear-Smartak-L2078-Navy-Gents-07   \n",
      "816  2-FB-L2058-BK-GA7              Footwear-Smartak-L2058-Black-Gents-07   \n",
      "817  2-FB-L2057-TA-GA7                 Footwear-Smartak-L2057-Tan-Gents-7   \n",
      "\n",
      "             art  \n",
      "0     0101Z-RD-L  \n",
      "1     3779Z-TR-G  \n",
      "2    D4303Z-NB-G  \n",
      "3     D4304-BL-G  \n",
      "4    D4303Z-MX-G  \n",
      "..           ...  \n",
      "813   L2058-TA-G  \n",
      "814   L2078-TA-G  \n",
      "815   L2078-NY-G  \n",
      "816   L2058-BK-G  \n",
      "817   L2057-TA-G  \n",
      "\n",
      "[818 rows x 3 columns]\n"
     ]
    }
   ],
   "metadata": {}
  },
  {
   "cell_type": "code",
   "execution_count": 69,
   "source": [
    "df.to_csv(\"data/artList.csv\", index=False)"
   ],
   "outputs": [],
   "metadata": {}
  },
  {
   "cell_type": "code",
   "execution_count": null,
   "source": [],
   "outputs": [],
   "metadata": {}
  }
 ],
 "metadata": {
  "orig_nbformat": 4,
  "language_info": {
   "name": "python",
   "version": "3.9.5",
   "mimetype": "text/x-python",
   "codemirror_mode": {
    "name": "ipython",
    "version": 3
   },
   "pygments_lexer": "ipython3",
   "nbconvert_exporter": "python",
   "file_extension": ".py"
  },
  "kernelspec": {
   "name": "python3",
   "display_name": "Python 3.9.5 64-bit ('env': venv)"
  },
  "interpreter": {
   "hash": "189e76d1119353c3c40d940e3fca06b7cf084a6a803148f3dc69c876fa5bf18d"
  }
 },
 "nbformat": 4,
 "nbformat_minor": 2
}