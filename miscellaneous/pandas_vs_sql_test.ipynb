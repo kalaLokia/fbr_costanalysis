{
 "cells": [
  {
   "cell_type": "code",
   "execution_count": 1,
   "source": [
    "# Before running move this jupyter notbook to root folder\r\n",
    "import sqlite3\r\n",
    "import pandas as pd\r\n",
    "from core.article import Article\r\n",
    "from core.load_database import loadDatabase\r\n",
    "from core.bom import Bom\r\n",
    "from core import SQL_DB_DIR"
   ],
   "outputs": [],
   "metadata": {}
  },
  {
   "cell_type": "code",
   "execution_count": 2,
   "source": [
    "# Access to Bom db\r\n",
    "db, a_db, art_db = loadDatabase()"
   ],
   "outputs": [
    {
     "output_type": "stream",
     "name": "stdout",
     "text": [
      ">>  Loading database ....\n",
      ">>  Database loaded successfully\n",
      ">>  Looking up for Articles rate file...\n",
      ">>  Successfully loaded \"data/articles.csv\".\n"
     ]
    }
   ],
   "metadata": {}
  },
  {
   "cell_type": "code",
   "execution_count": 3,
   "source": [
    "# SQL Headers and Query\r\n",
    "headers = [\r\n",
    "    \"father\",\r\n",
    "    \"fathername\",\r\n",
    "    \"brand\",\r\n",
    "    \"child\",\r\n",
    "    \"childname\",\r\n",
    "    \"childqty\",\r\n",
    "    \"childuom\",\r\n",
    "    \"childrate\",\r\n",
    "    \"childtype\",\r\n",
    "    \"producttype\",\r\n",
    "    \"mrp\",\r\n",
    "    \"process\",\r\n",
    "    \"processorder\",\r\n",
    "    \"application\",\r\n",
    "]\r\n",
    "\r\n",
    "query = \"\"\"\r\n",
    "with recursive cte ({0}) as (\r\n",
    "    select     {0}\r\n",
    "    from       bom\r\n",
    "    where      father = \"{1}\"\r\n",
    "    union all\r\n",
    "    select     {2}\r\n",
    "    from       bom p\r\n",
    "    inner join cte\r\n",
    "            on p.father = cte.child\r\n",
    "    )\r\n",
    "select * from cte\r\n",
    "\"\"\""
   ],
   "outputs": [],
   "metadata": {}
  },
  {
   "cell_type": "markdown",
   "source": [
    "# EXECUTION"
   ],
   "metadata": {}
  },
  {
   "cell_type": "code",
   "execution_count": 4,
   "source": [
    "con = sqlite3.connect(SQL_DB_DIR)"
   ],
   "outputs": [],
   "metadata": {}
  },
  {
   "cell_type": "code",
   "execution_count": 5,
   "source": [
    "for i, row in art_db.iterrows():\r\n",
    "    rates = tuple(row[1:])\r\n",
    "    article = Article.from_bulk_list(row[0],rates)\r\n",
    "    bom = Bom(article)\r\n",
    "    bom.createFinalBom(db)\r\n",
    "    df = bom.bom_df"
   ],
   "outputs": [],
   "metadata": {}
  },
  {
   "cell_type": "code",
   "execution_count": 6,
   "source": [
    "parent_headers = \",\".join([\"p.\" + x for x in headers])\r\n",
    "header = \",\".join(headers)\r\n",
    "for i, row in art_db.iterrows():\r\n",
    "    rates = tuple(row[1:])\r\n",
    "    article = Article.from_bulk_list(row[0],rates)\r\n",
    "    q = query.format(header, article.get_mc_name.upper(),parent_headers )\r\n",
    "    df = pd.read_sql_query(q, con)"
   ],
   "outputs": [],
   "metadata": {}
  },
  {
   "cell_type": "code",
   "execution_count": 7,
   "source": [
    "import timeit\r\n",
    "\r\n",
    "def sql_process():\r\n",
    "    for i, row in art_db.iterrows():\r\n",
    "        rates = tuple(row[1:])\r\n",
    "        article = Article.from_bulk_list(row[0],rates)\r\n",
    "        q = query.format(header, article.get_mc_name.upper(),parent_headers )\r\n",
    "        df = pd.read_sql_query(q, con)\r\n",
    "\r\n",
    "def pandas_process():\r\n",
    "    for i, row in art_db.iterrows():\r\n",
    "        rates = tuple(row[1:])\r\n",
    "        article = Article.from_bulk_list(row[0],rates)\r\n",
    "        bom = Bom(article)\r\n",
    "        bom.createFinalBom(db)\r\n",
    "        df = bom.bom_df"
   ],
   "outputs": [],
   "metadata": {}
  },
  {
   "cell_type": "code",
   "execution_count": 8,
   "source": [
    "sql_timing = timeit.timeit(sql_process, number=10)\r\n",
    "pandas_timing = timeit.timeit(pandas_process, number=10)\r\n",
    "print(f\"SQL bom fetching took {sql_timing} seconds\")\r\n",
    "print(f\"Pandas bom fetching took {pandas_timing} seconds\")"
   ],
   "outputs": [
    {
     "output_type": "stream",
     "name": "stdout",
     "text": [
      "SQL bom fetching took 4.1931218 seconds\n",
      "Pandas bom fetching took 1.4916061000000127 seconds\n"
     ]
    }
   ],
   "metadata": {}
  }
 ],
 "metadata": {
  "orig_nbformat": 4,
  "language_info": {
   "name": "python",
   "version": "3.9.7",
   "mimetype": "text/x-python",
   "codemirror_mode": {
    "name": "ipython",
    "version": 3
   },
   "pygments_lexer": "ipython3",
   "nbconvert_exporter": "python",
   "file_extension": ".py"
  },
  "kernelspec": {
   "name": "python3",
   "display_name": "Python 3.9.7 64-bit ('env': venv)"
  },
  "interpreter": {
   "hash": "c88cda4f00551d5a786ff5cd204cb646988d7ca941c49e4dc34604938e461b17"
  }
 },
 "nbformat": 4,
 "nbformat_minor": 2
}