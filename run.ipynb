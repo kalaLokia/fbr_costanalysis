{
 "cells": [
  {
   "cell_type": "code",
   "execution_count": 1,
   "metadata": {},
   "outputs": [],
   "source": [
    "from core.load_database import loadDatabase\n",
    "from core.article import Article\n",
    "from core.bom import Bom"
   ]
  },
  {
   "cell_type": "code",
   "execution_count": 2,
   "metadata": {},
   "outputs": [
    {
     "name": "stdout",
     "output_type": "stream",
     "text": [
      ">>  Loading database ....\n",
      ">>  Database loaded successfully\n",
      ">>  Looking up for Articles rate file...\n",
      ">>  Successfully loaded \"data/articles.xlsx\".\n"
     ]
    }
   ],
   "source": [
    "df, artlist, art_df = loadDatabase()"
   ]
  },
  {
   "cell_type": "code",
   "execution_count": 3,
   "metadata": {},
   "outputs": [],
   "source": [
    "article = Article()"
   ]
  },
  {
   "cell_type": "code",
   "execution_count": 4,
   "metadata": {},
   "outputs": [],
   "source": [
    "bom = Bom(article)"
   ]
  },
  {
   "cell_type": "code",
   "execution_count": 5,
   "metadata": {},
   "outputs": [
    {
     "data": {
      "text/plain": [
       "{'status': 'OK', 'message': 'Fetched bom for 3290 Black Gents'}"
      ]
     },
     "execution_count": 5,
     "metadata": {},
     "output_type": "execute_result"
    }
   ],
   "source": [
    "bom.createFinalBom(df)"
   ]
  },
  {
   "cell_type": "code",
   "execution_count": 6,
   "metadata": {},
   "outputs": [
    {
     "data": {
      "text/plain": [
       "0       2-FB-3290-BK-G1\n",
       "1       2-FB-3290-BK-G1\n",
       "2       2-FB-3290-BK-G1\n",
       "3       2-FB-3290-BK-G1\n",
       "4       2-FB-3290-BK-G1\n",
       "5       2-FB-3290-BK-G1\n",
       "6       2-FB-3290-BK-G1\n",
       "7       2-FB-3290-BK-G1\n",
       "8       2-FB-3290-BK-G1\n",
       "9       2-FB-3290-BK-G1\n",
       "10     3-FB-3290-BK-G08\n",
       "11     3-FB-3290-BK-G08\n",
       "12     3-FB-3290-BK-G08\n",
       "13     3-FB-3290-BK-G08\n",
       "14     3-FB-3290-BK-G08\n",
       "15    4-MPU-3290-BK-G08\n",
       "16    4-MPU-3290-BK-G08\n",
       "17    4-MPU-3290-BK-G08\n",
       "18    4-MPU-3290-BK-G08\n",
       "19    4-MPU-3290-BK-G08\n",
       "20           4-PUX-0004\n",
       "21           4-PUX-0004\n",
       "22           4-PUX-0004\n",
       "23     4-FU-3290-BK-G08\n",
       "24     4-FU-3290-BK-G08\n",
       "25     4-FU-3290-BK-G08\n",
       "26     4-FU-3290-BK-G08\n",
       "27     4-FU-3290-BK-G08\n",
       "28          4-CCA-ANG01\n",
       "29    4-MCS-3290-BK-G08\n",
       "30    4-MCS-3290-BK-G08\n",
       "31    4-MCS-3290-BK-G08\n",
       "32    4-MCS-3290-BK-G08\n",
       "33    4-PCS-3290-BK-G08\n",
       "34    4-PCS-3290-BK-G08\n",
       "35    4-CCP-3290-BK-G08\n",
       "36    4-CCP-3290-BK-G08\n",
       "37     4-PCS1-3290-BK-G\n",
       "38     4-PCS1-3290-BK-G\n",
       "39      4-FCM-3290-BK-G\n",
       "40      4-FCM-3290-BK-G\n",
       "41     4-CCP1-3290-BK-G\n",
       "42      4-SCF-3290-BK-G\n",
       "43      4-SCF-3290-BK-G\n",
       "Name: father, dtype: object"
      ]
     },
     "execution_count": 6,
     "metadata": {},
     "output_type": "execute_result"
    }
   ],
   "source": [
    "bom.bom_df.father"
   ]
  },
  {
   "cell_type": "code",
   "execution_count": null,
   "metadata": {},
   "outputs": [],
   "source": []
  }
 ],
 "metadata": {
  "interpreter": {
   "hash": "b05439d01bbccd657d7725375a931eb98dd2e6bf32ce4c844aa15e408f0af101"
  },
  "kernelspec": {
   "display_name": "Python 3.10.0 64-bit ('env': venv)",
   "language": "python",
   "name": "python3"
  },
  "language_info": {
   "codemirror_mode": {
    "name": "ipython",
    "version": 3
   },
   "file_extension": ".py",
   "mimetype": "text/x-python",
   "name": "python",
   "nbconvert_exporter": "python",
   "pygments_lexer": "ipython3",
   "version": "3.10.0"
  },
  "orig_nbformat": 4
 },
 "nbformat": 4,
 "nbformat_minor": 2
}
